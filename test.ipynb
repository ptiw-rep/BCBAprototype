{
 "cells": [
  {
   "cell_type": "markdown",
   "metadata": {},
   "source": [
    "## Blockchain derived authentication mechanism\n",
    "\n",
    "### Problems to overcome :\n",
    " 1. Secure Authentication\n",
    " 2. Data/Information mutability\n",
    " 3. Anything that comes from user as an input is vulnerable \n",
    " 4. MITM, Spoofing and Phishing Attacks\n",
    " 5. How to get an confirmation of login\n",
    " 6. Movement of data outside the entities"
   ]
  },
  {
   "cell_type": "markdown",
   "metadata": {},
   "source": [
    "#### Signup Procedure"
   ]
  },
  {
   "cell_type": "markdown",
   "metadata": {},
   "source": [
    "## Signup  :\n",
    "\n",
    "1. It requires a user identifier and the user description ( for digital signature ). For user identifier the proposed solution is a combination of name, MAC address, and a live time physical authentication such as fingerprint or retina scan. a combination of these is used to generate a unique ID here called as user_identifier along with the description of the device used.\n",
    "\n",
    "2. As soon as the SignUp Entity ( say signup manager ) gets the confirmation for these two, a block in the mainchain is allocated with the following generated information :\n",
    "\t1.  the new user’s block address\n",
    "\t2.  the new user’s block private key\n",
    "\t3.  the new user’s block public key\n",
    "\t4.  the relevant transaction id \n",
    "\t5.  the new user’s RSA public key\n",
    "\t6.  the new user’s RSA private key\n",
    "\n",
    "3. The following are automatically published to the user metadata stream ( a metadata of users without mapping ) :\n",
    "\t1.  new user’s identifier\n",
    "\t2.  new user’s description\n",
    "\t3.  new user’s chain address\n",
    "\t4.  new user’s chain public key\n",
    "\t5.  new user’s RSA public key\n",
    "\n",
    "**The newly created user’s chain private key and RSA private key are not published to any data stream.**"
   ]
  },
  {
   "cell_type": "code",
   "execution_count": 4,
   "metadata": {},
   "outputs": [
    {
     "name": "stdout",
     "output_type": "stream",
     "text": [
      "Collecting rsa\n",
      "  Downloading rsa-4.8-py3-none-any.whl (39 kB)\n",
      "Collecting pyasn1>=0.1.3\n",
      "  Using cached pyasn1-0.4.8-py2.py3-none-any.whl (77 kB)\n",
      "Installing collected packages: pyasn1, rsa\n",
      "Successfully installed pyasn1-0.4.8 rsa-4.8\n"
     ]
    }
   ],
   "source": [
    "!pip install rsa"
   ]
  },
  {
   "cell_type": "code",
   "execution_count": 3,
   "metadata": {},
   "outputs": [
    {
     "name": "stdout",
     "output_type": "stream",
     "text": [
      "4040282483\n"
     ]
    }
   ],
   "source": [
    "metaData = [ ]\n",
    "\n",
    "from random import randint\n",
    "\n",
    "def random_number_generator(n):\n",
    "    range_start = 10**(n-1)\n",
    "    range_end = (10**n)-1\n",
    "    return randint(range_start, range_end)\n",
    "    "
   ]
  },
  {
   "cell_type": "code",
   "execution_count": null,
   "metadata": {},
   "outputs": [],
   "source": [
    "# adding user \n",
    "identifier = random_number_generator(10)\n",
    "description =input(\"Enter the description: \")\n",
    "\n",
    "# to produce information for user block and add it to meta data\n"
   ]
  },
  {
   "cell_type": "markdown",
   "metadata": {},
   "source": [
    "#### Authentication"
   ]
  },
  {
   "cell_type": "markdown",
   "metadata": {},
   "source": [
    "## Procedure :\n",
    " 1. Login Request :\n",
    "\t 1. Access **Provider** RSA Public key and encrypt **User** Chain Address using it. Send this encrypted address to **Provider**.\n",
    "\t 2. **Provider** decrypts this message using its RSA Private Key and gets the **User** chain address. Using this retrieve RSA public key of **User**.\n",
    " 2.  Digital Signature : \n",
    "\t\t1. Hashing Timestamp and Identity description ( signature ) using message digest and encrypt it using **User** RSA public key and send it back to the **User** ( lets call this sent data encrypted *hash value*).\n",
    "\t 2. Decryption of this encrypted *hash value* using **User** RSA private key, we get the *hash value*.\n",
    "\t 3. Encrypt the *hash value* obtained using **User** chain private key (i.e equivalent of digital signature), encrypting it with **Provider** RSA public key and sending it to **Provider**.\n",
    "\t 4. **Provider** decrypts this with **Provider** RSA private key.\n",
    " 3. Verification :\n",
    "\t 1. Verification of digital signature by **User** chain public key. \n",
    "\t 2. Verification of timestamp can be done using a buffer time period i.e. this whole process is valid only for a fixed period of time from start to finish.\n",
    "\t 3. If all the verification criteria is fulfilled, the user can be granted access to resources."
   ]
  },
  {
   "cell_type": "code",
   "execution_count": null,
   "metadata": {},
   "outputs": [],
   "source": []
  }
 ],
 "metadata": {
  "interpreter": {
   "hash": "7ccece734618ef5345d01d384f7687932cc8b2f293ac34bfa4e70f332ba53789"
  },
  "kernelspec": {
   "display_name": "Python 3.10.0 64-bit",
   "language": "python",
   "name": "python3"
  },
  "language_info": {
   "codemirror_mode": {
    "name": "ipython",
    "version": 3
   },
   "file_extension": ".py",
   "mimetype": "text/x-python",
   "name": "python",
   "nbconvert_exporter": "python",
   "pygments_lexer": "ipython3",
   "version": "3.8.5"
  },
  "orig_nbformat": 4
 },
 "nbformat": 4,
 "nbformat_minor": 2
}
